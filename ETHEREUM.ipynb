{
  "nbformat": 4,
  "nbformat_minor": 0,
  "metadata": {
    "colab": {
      "provenance": []
    },
    "kernelspec": {
      "name": "python3",
      "display_name": "Python 3"
    },
    "language_info": {
      "name": "python"
    }
  },
  "cells": [
    {
      "cell_type": "code",
      "execution_count": 2,
      "metadata": {
        "id": "QeZc1Bumn6l1"
      },
      "outputs": [],
      "source": [
        "#Multi class clasifaction problem\n",
        "\n",
        "# Import \n",
        "import torch\n",
        "import matplotlib.pyplot as plt\n",
        "from scipy.fft import fft, fftfreq\n",
        "import numpy as np"
      ]
    },
    {
      "cell_type": "code",
      "source": [],
      "metadata": {
        "id": "fQjv0RCDo2Hm"
      },
      "execution_count": null,
      "outputs": []
    },
    {
      "cell_type": "code",
      "source": [
        "\n",
        "!pip install yfinance\n",
        "import yfinance as yf"
      ],
      "metadata": {
        "colab": {
          "base_uri": "https://localhost:8080/"
        },
        "id": "n20Wi9S5lh_H",
        "outputId": "a732bf19-49e5-4302-a84b-d406b224c66a"
      },
      "execution_count": 5,
      "outputs": [
        {
          "output_type": "stream",
          "name": "stdout",
          "text": [
            "Looking in indexes: https://pypi.org/simple, https://us-python.pkg.dev/colab-wheels/public/simple/\n",
            "Collecting yfinance\n",
            "  Downloading yfinance-0.1.87-py2.py3-none-any.whl (29 kB)\n",
            "Requirement already satisfied: appdirs>=1.4.4 in /usr/local/lib/python3.7/dist-packages (from yfinance) (1.4.4)\n",
            "Requirement already satisfied: multitasking>=0.0.7 in /usr/local/lib/python3.7/dist-packages (from yfinance) (0.0.11)\n",
            "Requirement already satisfied: pandas>=0.24.0 in /usr/local/lib/python3.7/dist-packages (from yfinance) (1.3.5)\n",
            "Collecting requests>=2.26\n",
            "  Downloading requests-2.28.1-py3-none-any.whl (62 kB)\n",
            "\u001b[K     |████████████████████████████████| 62 kB 1.8 MB/s \n",
            "\u001b[?25hRequirement already satisfied: lxml>=4.5.1 in /usr/local/lib/python3.7/dist-packages (from yfinance) (4.9.1)\n",
            "Requirement already satisfied: numpy>=1.15 in /usr/local/lib/python3.7/dist-packages (from yfinance) (1.21.6)\n",
            "Requirement already satisfied: pytz>=2017.3 in /usr/local/lib/python3.7/dist-packages (from pandas>=0.24.0->yfinance) (2022.6)\n",
            "Requirement already satisfied: python-dateutil>=2.7.3 in /usr/local/lib/python3.7/dist-packages (from pandas>=0.24.0->yfinance) (2.8.2)\n",
            "Requirement already satisfied: six>=1.5 in /usr/local/lib/python3.7/dist-packages (from python-dateutil>=2.7.3->pandas>=0.24.0->yfinance) (1.15.0)\n",
            "Requirement already satisfied: charset-normalizer<3,>=2 in /usr/local/lib/python3.7/dist-packages (from requests>=2.26->yfinance) (2.1.1)\n",
            "Requirement already satisfied: certifi>=2017.4.17 in /usr/local/lib/python3.7/dist-packages (from requests>=2.26->yfinance) (2022.9.24)\n",
            "Requirement already satisfied: urllib3<1.27,>=1.21.1 in /usr/local/lib/python3.7/dist-packages (from requests>=2.26->yfinance) (1.24.3)\n",
            "Requirement already satisfied: idna<4,>=2.5 in /usr/local/lib/python3.7/dist-packages (from requests>=2.26->yfinance) (2.10)\n",
            "Installing collected packages: requests, yfinance\n",
            "  Attempting uninstall: requests\n",
            "    Found existing installation: requests 2.23.0\n",
            "    Uninstalling requests-2.23.0:\n",
            "      Successfully uninstalled requests-2.23.0\n",
            "Successfully installed requests-2.28.1 yfinance-0.1.87\n"
          ]
        }
      ]
    },
    {
      "cell_type": "code",
      "source": [
        "import yfinance as yf\n",
        "from datetime import datetime\n",
        "today = datetime.today().strftime('%Y-%m-%d')\n",
        "start_date = '2016-01-01'\n",
        "eth = yf.download('ETH-USD',start_date, today)\n",
        "eth.tail()\n",
        "\n"
      ],
      "metadata": {
        "colab": {
          "base_uri": "https://localhost:8080/",
          "height": 256
        },
        "id": "rWR8l1w-l4Z6",
        "outputId": "ab01e6fe-f6ee-4992-8a2e-6ba79bdab028"
      },
      "execution_count": 6,
      "outputs": [
        {
          "output_type": "stream",
          "name": "stdout",
          "text": [
            "\r[*********************100%***********************]  1 of 1 completed\n"
          ]
        },
        {
          "output_type": "execute_result",
          "data": {
            "text/plain": [
              "                   Open         High          Low        Close    Adj Close  \\\n",
              "Date                                                                          \n",
              "2022-11-23  1135.421509  1184.997314  1130.022827  1183.199585  1183.199585   \n",
              "2022-11-24  1183.345093  1211.627441  1180.379761  1203.983154  1203.983154   \n",
              "2022-11-25  1203.799438  1203.799438  1174.823364  1198.925903  1198.925903   \n",
              "2022-11-26  1198.790527  1227.038086  1198.097900  1205.897949  1205.897949   \n",
              "2022-11-27  1205.905273  1220.349487  1195.039062  1195.126953  1195.126953   \n",
              "\n",
              "                 Volume  \n",
              "Date                     \n",
              "2022-11-23  11242676044  \n",
              "2022-11-24   9706372376  \n",
              "2022-11-25   5483308196  \n",
              "2022-11-26   5074160558  \n",
              "2022-11-27   4486976868  "
            ],
            "text/html": [
              "\n",
              "  <div id=\"df-f6379366-1340-47a4-b6ef-e5c3314015ac\">\n",
              "    <div class=\"colab-df-container\">\n",
              "      <div>\n",
              "<style scoped>\n",
              "    .dataframe tbody tr th:only-of-type {\n",
              "        vertical-align: middle;\n",
              "    }\n",
              "\n",
              "    .dataframe tbody tr th {\n",
              "        vertical-align: top;\n",
              "    }\n",
              "\n",
              "    .dataframe thead th {\n",
              "        text-align: right;\n",
              "    }\n",
              "</style>\n",
              "<table border=\"1\" class=\"dataframe\">\n",
              "  <thead>\n",
              "    <tr style=\"text-align: right;\">\n",
              "      <th></th>\n",
              "      <th>Open</th>\n",
              "      <th>High</th>\n",
              "      <th>Low</th>\n",
              "      <th>Close</th>\n",
              "      <th>Adj Close</th>\n",
              "      <th>Volume</th>\n",
              "    </tr>\n",
              "    <tr>\n",
              "      <th>Date</th>\n",
              "      <th></th>\n",
              "      <th></th>\n",
              "      <th></th>\n",
              "      <th></th>\n",
              "      <th></th>\n",
              "      <th></th>\n",
              "    </tr>\n",
              "  </thead>\n",
              "  <tbody>\n",
              "    <tr>\n",
              "      <th>2022-11-23</th>\n",
              "      <td>1135.421509</td>\n",
              "      <td>1184.997314</td>\n",
              "      <td>1130.022827</td>\n",
              "      <td>1183.199585</td>\n",
              "      <td>1183.199585</td>\n",
              "      <td>11242676044</td>\n",
              "    </tr>\n",
              "    <tr>\n",
              "      <th>2022-11-24</th>\n",
              "      <td>1183.345093</td>\n",
              "      <td>1211.627441</td>\n",
              "      <td>1180.379761</td>\n",
              "      <td>1203.983154</td>\n",
              "      <td>1203.983154</td>\n",
              "      <td>9706372376</td>\n",
              "    </tr>\n",
              "    <tr>\n",
              "      <th>2022-11-25</th>\n",
              "      <td>1203.799438</td>\n",
              "      <td>1203.799438</td>\n",
              "      <td>1174.823364</td>\n",
              "      <td>1198.925903</td>\n",
              "      <td>1198.925903</td>\n",
              "      <td>5483308196</td>\n",
              "    </tr>\n",
              "    <tr>\n",
              "      <th>2022-11-26</th>\n",
              "      <td>1198.790527</td>\n",
              "      <td>1227.038086</td>\n",
              "      <td>1198.097900</td>\n",
              "      <td>1205.897949</td>\n",
              "      <td>1205.897949</td>\n",
              "      <td>5074160558</td>\n",
              "    </tr>\n",
              "    <tr>\n",
              "      <th>2022-11-27</th>\n",
              "      <td>1205.905273</td>\n",
              "      <td>1220.349487</td>\n",
              "      <td>1195.039062</td>\n",
              "      <td>1195.126953</td>\n",
              "      <td>1195.126953</td>\n",
              "      <td>4486976868</td>\n",
              "    </tr>\n",
              "  </tbody>\n",
              "</table>\n",
              "</div>\n",
              "      <button class=\"colab-df-convert\" onclick=\"convertToInteractive('df-f6379366-1340-47a4-b6ef-e5c3314015ac')\"\n",
              "              title=\"Convert this dataframe to an interactive table.\"\n",
              "              style=\"display:none;\">\n",
              "        \n",
              "  <svg xmlns=\"http://www.w3.org/2000/svg\" height=\"24px\"viewBox=\"0 0 24 24\"\n",
              "       width=\"24px\">\n",
              "    <path d=\"M0 0h24v24H0V0z\" fill=\"none\"/>\n",
              "    <path d=\"M18.56 5.44l.94 2.06.94-2.06 2.06-.94-2.06-.94-.94-2.06-.94 2.06-2.06.94zm-11 1L8.5 8.5l.94-2.06 2.06-.94-2.06-.94L8.5 2.5l-.94 2.06-2.06.94zm10 10l.94 2.06.94-2.06 2.06-.94-2.06-.94-.94-2.06-.94 2.06-2.06.94z\"/><path d=\"M17.41 7.96l-1.37-1.37c-.4-.4-.92-.59-1.43-.59-.52 0-1.04.2-1.43.59L10.3 9.45l-7.72 7.72c-.78.78-.78 2.05 0 2.83L4 21.41c.39.39.9.59 1.41.59.51 0 1.02-.2 1.41-.59l7.78-7.78 2.81-2.81c.8-.78.8-2.07 0-2.86zM5.41 20L4 18.59l7.72-7.72 1.47 1.35L5.41 20z\"/>\n",
              "  </svg>\n",
              "      </button>\n",
              "      \n",
              "  <style>\n",
              "    .colab-df-container {\n",
              "      display:flex;\n",
              "      flex-wrap:wrap;\n",
              "      gap: 12px;\n",
              "    }\n",
              "\n",
              "    .colab-df-convert {\n",
              "      background-color: #E8F0FE;\n",
              "      border: none;\n",
              "      border-radius: 50%;\n",
              "      cursor: pointer;\n",
              "      display: none;\n",
              "      fill: #1967D2;\n",
              "      height: 32px;\n",
              "      padding: 0 0 0 0;\n",
              "      width: 32px;\n",
              "    }\n",
              "\n",
              "    .colab-df-convert:hover {\n",
              "      background-color: #E2EBFA;\n",
              "      box-shadow: 0px 1px 2px rgba(60, 64, 67, 0.3), 0px 1px 3px 1px rgba(60, 64, 67, 0.15);\n",
              "      fill: #174EA6;\n",
              "    }\n",
              "\n",
              "    [theme=dark] .colab-df-convert {\n",
              "      background-color: #3B4455;\n",
              "      fill: #D2E3FC;\n",
              "    }\n",
              "\n",
              "    [theme=dark] .colab-df-convert:hover {\n",
              "      background-color: #434B5C;\n",
              "      box-shadow: 0px 1px 3px 1px rgba(0, 0, 0, 0.15);\n",
              "      filter: drop-shadow(0px 1px 2px rgba(0, 0, 0, 0.3));\n",
              "      fill: #FFFFFF;\n",
              "    }\n",
              "  </style>\n",
              "\n",
              "      <script>\n",
              "        const buttonEl =\n",
              "          document.querySelector('#df-f6379366-1340-47a4-b6ef-e5c3314015ac button.colab-df-convert');\n",
              "        buttonEl.style.display =\n",
              "          google.colab.kernel.accessAllowed ? 'block' : 'none';\n",
              "\n",
              "        async function convertToInteractive(key) {\n",
              "          const element = document.querySelector('#df-f6379366-1340-47a4-b6ef-e5c3314015ac');\n",
              "          const dataTable =\n",
              "            await google.colab.kernel.invokeFunction('convertToInteractive',\n",
              "                                                     [key], {});\n",
              "          if (!dataTable) return;\n",
              "\n",
              "          const docLinkHtml = 'Like what you see? Visit the ' +\n",
              "            '<a target=\"_blank\" href=https://colab.research.google.com/notebooks/data_table.ipynb>data table notebook</a>'\n",
              "            + ' to learn more about interactive tables.';\n",
              "          element.innerHTML = '';\n",
              "          dataTable['output_type'] = 'display_data';\n",
              "          await google.colab.output.renderOutput(dataTable, element);\n",
              "          const docLink = document.createElement('div');\n",
              "          docLink.innerHTML = docLinkHtml;\n",
              "          element.appendChild(docLink);\n",
              "        }\n",
              "      </script>\n",
              "    </div>\n",
              "  </div>\n",
              "  "
            ]
          },
          "metadata": {},
          "execution_count": 6
        }
      ]
    },
    {
      "cell_type": "code",
      "source": [
        "from numpy.linalg import tensorinv\n",
        "#print(eth)\n",
        "eth.columns\n",
        "\n",
        "#plt.axes([-100,100,2015,2022])\n",
        "VOLUME=torch.tensor(eth[\"Volume\"]).reshape((1845,1))/11242676044\n",
        "plt.plot(eth[\"High\"]-eth[\"Open\"])\n",
        "MAX_MIN=torch.tensor(eth[\"Open\"]-eth[\"Close\"])\n",
        "plt.plot(eth[\"High\"])\n",
        "plt.plot(eth[\"Low\"])\n",
        "LOW=torch.tensor(eth[\"Low\"]).reshape((1845,1)).float()\n",
        "CLOSED=torch.tensor(eth[\"Close\"])\n",
        "OPEN=torch.tensor(eth[\"Open\"]).reshape((1845,1)).float()\n",
        "print(eth[\"High\"]-eth[\"Low\"],VOLUME.size)"
      ],
      "metadata": {
        "colab": {
          "base_uri": "https://localhost:8080/",
          "height": 502
        },
        "id": "8mvOfmWPnA-E",
        "outputId": "4ebef521-0e2e-4db6-c5cd-8071262bba3b"
      },
      "execution_count": 7,
      "outputs": [
        {
          "output_type": "stream",
          "name": "stdout",
          "text": [
            "Date\n",
            "2017-11-09    22.395996\n",
            "2017-11-10    30.175995\n",
            "2017-11-11    21.261017\n",
            "2017-11-12    20.640015\n",
            "2017-11-13    21.390015\n",
            "                ...    \n",
            "2022-11-23    54.974487\n",
            "2022-11-24    31.247681\n",
            "2022-11-25    28.976074\n",
            "2022-11-26    28.940186\n",
            "2022-11-27    25.310425\n",
            "Length: 1845, dtype: float64 <built-in method size of Tensor object at 0x7f2687a24530>\n"
          ]
        },
        {
          "output_type": "display_data",
          "data": {
            "text/plain": [
              "<Figure size 432x288 with 1 Axes>"
            ],
            "image/png": "[encoded data removed]"
          },
          "metadata": {
            "needs_background": "light"
          }
        }
      ]
    },
    {
      "cell_type": "code",
      "source": [
        "from scipy.fft import fft, ifft,fftfreq\n",
        "yf=fft(np.array(eth[\"High\"]))\n",
        "#print(X)\n",
        "X=ifft(yf)\n",
        "xf=fftfreq(1845,1)\n",
        "#plt.plot(xf,yf)\n",
        "plt.plot(X)\n",
        "INPUT=torch.tensor([yf]).float()\n"
      ],
      "metadata": {
        "colab": {
          "base_uri": "https://localhost:8080/",
          "height": 395
        },
        "id": "H6B-QBvXHkD_",
        "outputId": "ed730a9c-a3ad-49c4-9ed7-ff5c69a0b112"
      },
      "execution_count": 9,
      "outputs": [
        {
          "output_type": "stream",
          "name": "stderr",
          "text": [
            "/usr/local/lib/python3.7/dist-packages/matplotlib/cbook/__init__.py:1317: ComplexWarning: Casting complex values to real discards the imaginary part\n",
            "  return np.asarray(x, float)\n",
            "/usr/local/lib/python3.7/dist-packages/ipykernel_launcher.py:8: UserWarning: Creating a tensor from a list of numpy.ndarrays is extremely slow. Please consider converting the list to a single numpy.ndarray with numpy.array() before converting to a tensor. (Triggered internally at  ../torch/csrc/utils/tensor_new.cpp:201.)\n",
            "  \n",
            "/usr/local/lib/python3.7/dist-packages/ipykernel_launcher.py:8: UserWarning: Casting complex values to real discards the imaginary part (Triggered internally at  ../aten/src/ATen/native/Copy.cpp:250.)\n",
            "  \n"
          ]
        },
        {
          "output_type": "display_data",
          "data": {
            "text/plain": [
              "<Figure size 432x288 with 1 Axes>"
            ],
            "image/png": "[encoded data removed]"
          },
          "metadata": {
            "needs_background": "light"
          }
        }
      ]
    },
    {
      "cell_type": "code",
      "source": [
        "from torch import nn\n",
        "\n",
        "\n",
        "model=nn.Sequential(\n",
        "    \n",
        "    nn.Conv1d(1,1845,50,20),\n",
        "    nn.Linear(in_features=90,out_features=90,bias=True),\n",
        "    nn.ReLU(),\n",
        "    nn.ReLU(),\n",
        "    nn.ReLU(),\n",
        "    #nn.ReLU(),\n",
        "    #nn.ReLU(),\n",
        "    #nn.ReLU(),\n",
        "    #nn.Softmax(),\n",
        "    #nn.Softmax(),\n",
        "    #nn.Softmax(),\n",
        "    #nn.Softmax(),\n",
        "    nn.Linear(in_features=90,out_features=1,bias=True)\n",
        "\n",
        "              )\n"
      ],
      "metadata": {
        "id": "fr9Qapf2o4fX"
      },
      "execution_count": 10,
      "outputs": []
    },
    {
      "cell_type": "code",
      "source": [
        "\n",
        "CLOSED=CLOSED.reshape((1845,1)).float()\n",
        "#loss=nn.L1Loss()\n",
        "loss=nn.MSELoss()\n",
        "optimaizer=torch.optim.Adam(model.parameters(),lr=0.01)\n",
        "#MAX_MIN=MAX_MIN.reshape((1845,1)).float()\n",
        "#TRAINING=torch.cat((OPEN,MAX_MIN*0),0).reshape((1845,2))\n",
        "gubitci=[]\n",
        "for epoch in range(1000):\n",
        "  PRED=model(INPUT)\n",
        "  #LOSS=loss(CLOSED,PRED)\n",
        "  LOSS=loss(PRED,CLOSED)\n",
        "  gubitci.append(LOSS.item())\n",
        "  model.zero_grad()\n",
        "  LOSS.backward()\n",
        "  optimaizer.step()\n",
        "\n",
        "\n",
        "\n",
        "\n"
      ],
      "metadata": {
        "id": "Fo_AobsPCoWl"
      },
      "execution_count": 11,
      "outputs": []
    },
    {
      "cell_type": "code",
      "source": [
        "#plt.plot(gubitci)\n",
        "plt.plot(CLOSED)\n",
        "a=PRED.detach().numpy()\n",
        "POM=ifft(PRED.detach().numpy())\n",
        "#POM=ifft(np.sqrt((a.real*a.real+a.imag*a.imag)))\n",
        "print(POM)\n",
        "pom=[]\n",
        "for i in range(0,1845):\n",
        "  pom.append(i)\n",
        "t=np.array(pom)\n",
        "plt.plot(PRED.detach().numpy())\n"
      ],
      "metadata": {
        "colab": {
          "base_uri": "https://localhost:8080/",
          "height": 412
        },
        "id": "1fk6Ouq4GGWM",
        "outputId": "ed8b70b9-e1fd-452f-9181-ef497f530d3f"
      },
      "execution_count": 12,
      "outputs": [
        {
          "output_type": "stream",
          "name": "stdout",
          "text": [
            "[[102.86056 -0.j]\n",
            " [251.0202  -0.j]\n",
            " [ 22.949913-0.j]\n",
            " ...\n",
            " [963.28235 -0.j]\n",
            " [637.55646 -0.j]\n",
            " [626.80585 -0.j]]\n"
          ]
        },
        {
          "output_type": "execute_result",
          "data": {
            "text/plain": [
              "[<matplotlib.lines.Line2D at 0x7f26873f0d90>]"
            ]
          },
          "metadata": {},
          "execution_count": 12
        },
        {
          "output_type": "display_data",
          "data": {
            "text/plain": [
              "<Figure size 432x288 with 1 Axes>"
            ],
            "image/png": "[encoded data removed]"
          },
          "metadata": {
            "needs_background": "light"
          }
        }
      ]
    },
    {
      "cell_type": "code",
      "source": [
        "plt.plot(gubitci)\n",
        "\n"
      ],
      "metadata": {
        "id": "bVztBYbDOuku",
        "colab": {
          "base_uri": "https://localhost:8080/",
          "height": 294
        },
        "outputId": "dcb769b8-d20a-4885-9b79-3b7bc2e2af3c"
      },
      "execution_count": 13,
      "outputs": [
        {
          "output_type": "execute_result",
          "data": {
            "text/plain": [
              "[<matplotlib.lines.Line2D at 0x7f268736cd90>]"
            ]
          },
          "metadata": {},
          "execution_count": 13
        },
        {
          "output_type": "display_data",
          "data": {
            "text/plain": [
              "<Figure size 432x288 with 1 Axes>"
            ],
            "image/png": "[encoded data removed]"
          },
          "metadata": {
            "needs_background": "light"
          }
        }
      ]
    },
    {
      "cell_type": "code",
      "source": [
        "plt.plot(PRED.detach().numpy())"
      ],
      "metadata": {
        "colab": {
          "base_uri": "https://localhost:8080/",
          "height": 283
        },
        "id": "i2whySIuZdOH",
        "outputId": "5aba48c7-a4f8-431c-9b95-876f576c8e72"
      },
      "execution_count": 46,
      "outputs": [
        {
          "output_type": "execute_result",
          "data": {
            "text/plain": [
              "[<matplotlib.lines.Line2D at 0x7f26879c2910>]"
            ]
          },
          "metadata": {},
          "execution_count": 46
        },
        {
          "output_type": "display_data",
          "data": {
            "text/plain": [
              "<Figure size 432x288 with 1 Axes>"
            ],
            "image/png": "[encoded data removed]"
          },
          "metadata": {
            "needs_background": "light"
          }
        }
      ]
    },
    {
      "cell_type": "code",
      "source": [
        "lista=np.array(eth[\"High\"])\n",
        "n_element=1844\n",
        "lista[n_element]=1342.0\n",
        "crtanje=[]\n",
        "for i in range(30):\n",
        "  pom=fft(np.array(lista))\n",
        "  mod=model(torch.tensor([pom]).float())#reshape((1,1845)).float())\n",
        "  lista[n_element]=mod.detach().numpy()[1844]+np.random.rand()\n",
        "  print(mod.detach().numpy()[1844])\n",
        "  crtanje.append(lista[n_element])\n",
        "#print(ifft(mod.detach().numpy()))\n",
        "print(crtanje)\n",
        "\n",
        "plt.plot(crtanje)"
      ],
      "metadata": {
        "colab": {
          "base_uri": "https://localhost:8080/",
          "height": 870
        },
        "id": "LwXIeWGpHkBZ",
        "outputId": "33b87c91-49a0-469e-d52c-1f4f2644f756"
      },
      "execution_count": 84,
      "outputs": [
        {
          "output_type": "stream",
          "name": "stdout",
          "text": [
            "[1859.9525]\n",
            "[1797.9838]\n",
            "[1805.9036]\n",
            "[1804.9137]\n",
            "[1804.9775]\n",
            "[1805.0233]\n",
            "[1804.9669]\n",
            "[1804.9603]\n",
            "[1804.9423]\n",
            "[1804.9774]\n",
            "[1805.0126]\n",
            "[1805.0217]\n",
            "[1805.0317]\n",
            "[1804.9156]\n",
            "[1804.9352]\n",
            "[1804.973]\n",
            "[1805.0021]\n",
            "[1804.9338]\n",
            "[1804.9733]\n",
            "[1805.0206]\n",
            "[1805.0242]\n",
            "[1804.9637]\n",
            "[1805.0393]\n",
            "[1805.0125]\n",
            "[1804.9792]\n",
            "[1804.994]\n",
            "[1804.9807]\n",
            "[1805.0193]\n",
            "[1804.9958]\n",
            "[1804.9277]\n",
            "[1860.8983154296875, 1798.136962890625, 1805.9869384765625, 1805.4864501953125, 1805.1036376953125, 1805.5616455078125, 1805.6116943359375, 1805.7611083984375, 1805.478271484375, 1805.204345703125, 1805.126220703125, 1805.0408935546875, 1805.9686279296875, 1805.809326171875, 1805.50634765625, 1805.2802734375, 1805.818603515625, 1805.5064697265625, 1805.1356201171875, 1805.1124267578125, 1805.583251953125, 1804.9837646484375, 1805.2020263671875, 1805.469482421875, 1805.347900390625, 1805.4466552734375, 1805.14599609375, 1805.3316650390625, 1805.868896484375, 1805.354248046875]\n"
          ]
        },
        {
          "output_type": "execute_result",
          "data": {
            "text/plain": [
              "[<matplotlib.lines.Line2D at 0x7f26865f9650>]"
            ]
          },
          "metadata": {},
          "execution_count": 84
        },
        {
          "output_type": "display_data",
          "data": {
            "text/plain": [
              "<Figure size 432x288 with 1 Axes>"
            ],
            "image/png": "[encoded data removed]"
          },
          "metadata": {
            "needs_background": "light"
          }
        }
      ]
    }
  ]
}